{
  "nbformat": 4,
  "nbformat_minor": 0,
  "metadata": {
    "colab": {
      "name": "Single Linked List.ipynb",
      "provenance": [],
      "authorship_tag": "ABX9TyNyNjzL38IaAZxj1/bxH4vu",
      "include_colab_link": true
    },
    "kernelspec": {
      "name": "python3",
      "display_name": "Python 3"
    },
    "language_info": {
      "name": "python"
    }
  },
  "cells": [
    {
      "cell_type": "markdown",
      "metadata": {
        "id": "view-in-github",
        "colab_type": "text"
      },
      "source": [
        "<a href=\"https://colab.research.google.com/github/shahidafridi31202/Data-Structures-and-Algorithms-using-Python/blob/main/Single_Linked_List.ipynb\" target=\"_parent\"><img src=\"https://colab.research.google.com/assets/colab-badge.svg\" alt=\"Open In Colab\"/></a>"
      ]
    },
    {
      "cell_type": "code",
      "execution_count": 18,
      "metadata": {
        "colab": {
          "base_uri": "https://localhost:8080/"
        },
        "id": "pBxVzmuedeN8",
        "outputId": "e47bae38-f087-4ce7-f621-2fa24d0867e4"
      },
      "outputs": [
        {
          "output_type": "stream",
          "name": "stdout",
          "text": [
            "10->20->30->40->\n",
            "99->10->20->30->40->\n",
            "200->99->10->20->30->40->\n",
            "200->99->10->20->30->\n",
            "99->10->20->30->\n",
            "No of Node = 4\n"
          ]
        }
      ],
      "source": [
        "#creating a Node class\n",
        "class Node:\n",
        "  def __init__(self,value):  #passing the data value of node\n",
        "    self.data=value\n",
        "    self.left=None\n",
        "    self.right=None  #left and right assigend with None \n",
        "    # |Left=None|Data=value|right=None|-----created a node\n",
        "class Linkedlist:\n",
        "  def __init__(self):  \n",
        "    self.head=None  #created a head to store the first address of a node\n",
        "  def insert_at_end(self,node):\n",
        "    #if head is empty -> list is empty so store the address of node in head\n",
        "    if(self.head is None):\n",
        "      self.head=node\n",
        "    else:\n",
        "      #list has nodes so we need to add at end \n",
        "      #we need to find a node in which it right value is none\n",
        "      #using a loop we are moving to the last node of the list\n",
        "      curr=self.head\n",
        "      while(curr.right!= None):\n",
        "        curr=curr.right #moving to next element\n",
        "      #loop ends where we find the node where right value is None\n",
        "      curr.right =node\n",
        "  def del_at_end(self):    #DEL AT END\n",
        "    if(self.head is None):\n",
        "      print(\"Empty list\")\n",
        "    else:\n",
        "      if(self.head.right is None):\n",
        "        self.head=None\n",
        "      else:\n",
        "        prev = self.head\n",
        "        curr =self.head\n",
        "        while(curr.right != None):\n",
        "          prev=curr\n",
        "          curr =curr.right\n",
        "        prev.right =None\n",
        "  def insert_at_begining(self,node): #INSERT AT BEIGN\n",
        "    if(self.head is None):\n",
        "      self.head =node\n",
        "    else:\n",
        "      node.right = self.head\n",
        "      self.head = node\n",
        "  def del_at_begining(self):  #DEL AT BEGIN\n",
        "    if(self.head is None):\n",
        "      print(\"Empty list\")\n",
        "    else:\n",
        "      self.head=self.head.right\n",
        "  def countlist(self):\n",
        "    count=0\n",
        "    if(self.head is None):\n",
        "      return count\n",
        "    else:\n",
        "      curr=self.head\n",
        "      while(curr!=None):\n",
        "        count=count+1\n",
        "        curr=curr.right\n",
        "      return count\n",
        "  def printlist(self): #printing the list\n",
        "    if(self.head is None): \n",
        "      print(\"List is Empty\")\n",
        "    else:\n",
        "      curr =self.head\n",
        "      while(curr!=None):\n",
        "        print(curr.data,end='->')\n",
        "        curr=curr.right\n",
        "      print()\n",
        "    \n",
        "\n",
        "node1 = Node(10)\n",
        "linkedlist = Linkedlist()\n",
        "linkedlist.insert_at_end(node1)\n",
        "node2 =Node(20)\n",
        "linkedlist.insert_at_end(node2)\n",
        "node3 =Node(30)\n",
        "linkedlist.insert_at_end(node3)\n",
        "node4 =Node(40)\n",
        "linkedlist.insert_at_end(node4)\n",
        "linkedlist.printlist()\n",
        "firstnode = Node(99)\n",
        "linkedlist.insert_at_begining(firstnode)\n",
        "linkedlist.printlist()\n",
        "firstnode2 = Node(200)\n",
        "linkedlist.insert_at_begining(firstnode2)\n",
        "linkedlist.printlist()\n",
        "linkedlist.del_at_end()\n",
        "linkedlist.printlist()\n",
        "linkedlist.del_at_begining()\n",
        "linkedlist.printlist()\n",
        "print(\"No of Node =\",linkedlist.countlist())"
      ]
    },
    {
      "cell_type": "code",
      "source": [
        ""
      ],
      "metadata": {
        "id": "xE-ug3sdj2l_"
      },
      "execution_count": null,
      "outputs": []
    }
  ]
}